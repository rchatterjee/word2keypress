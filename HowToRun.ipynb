{
 "cells": [
  {
   "cell_type": "markdown",
   "metadata": {},
   "source": [
    "## Convert strings into keypress sequences\n",
    "A huge fraction of typos arise purely due to pressing wrong key in the keyboard. This module converts any string into a keypress sequence. Currently it only supports 'US' keyboard. "
   ]
  },
  {
   "cell_type": "code",
   "execution_count": 4,
   "metadata": {
    "collapsed": false
   },
   "outputs": [],
   "source": [
    "from word2keypress import distance, Keyboard"
   ]
  },
  {
   "cell_type": "code",
   "execution_count": 17,
   "metadata": {
    "collapsed": false
   },
   "outputs": [
    {
     "name": "stdout",
     "output_type": "stream",
     "text": [
      "\n",
      "Raw sequence: u'\\x03password'\n",
      "\n",
      "Readable sequence: u'<s>password'\n",
      "\n",
      "keyseq->word: Password\n"
     ]
    }
   ],
   "source": [
    "kb = Keyboard(u'US') # making unicode is mandatory (weird Cython)\n",
    "kseq = kb.word_to_keyseq('Password')\n",
    "print \"\\nRaw sequence:\", repr(kseq)\n",
    "\n",
    "print \"\\nReadable sequence:\", repr(kb.print_keyseq(kseq))\n",
    "\n",
    "print \"\\nkeyseq->word:\", kb.keyseq_to_word(kseq)"
   ]
  },
  {
   "cell_type": "code",
   "execution_count": 19,
   "metadata": {
    "collapsed": false
   },
   "outputs": [
    {
     "name": "stdout",
     "output_type": "stream",
     "text": [
      "All typos of 'Password' (keseq edit distance 1)\n",
      "[u'`Password', u'1Password', u'2Password', u'3Password', u'4Password', u'5Password', u'6Password', u'7Password', u'8Password', u'9Password']\n"
     ]
    }
   ],
   "source": [
    "print \"All typos of 'Password' (keseq edit distance 1)\"\n",
    "print list(kb.word_to_typos('Password'))[:10]"
   ]
  },
  {
   "cell_type": "code",
   "execution_count": 20,
   "metadata": {
    "collapsed": false
   },
   "outputs": [
    {
     "name": "stdout",
     "output_type": "stream",
     "text": [
      "password <c>password\n",
      "<s>password password\n",
      "<s>password <c>password\n",
      "<s>password1 <s>password<s>1\n",
      "p<c>assword <s>password\n",
      "<s>p<s>2ssword <s>password\n"
     ]
    }
   ],
   "source": [
    "word_pairs = [\n",
    "    ('password', 'PASSWORD'),\n",
    "    ('Password', 'password'),\n",
    "    ('Password', 'PASSWORD'),\n",
    "    ('Password1', 'Password!'),\n",
    "    ('pASSWORD', 'Password'),  # This is not good!                                                                                                                       \n",
    "    ('P@ssword', 'Password')]\n",
    "for w1, w2 in word_pairs:\n",
    "    assert distance(w1, w2)<3\n"
   ]
  }
 ],
 "metadata": {
  "kernelspec": {
   "display_name": "Python 2",
   "language": "python",
   "name": "python2"
  },
  "language_info": {
   "codemirror_mode": {
    "name": "ipython",
    "version": 2
   },
   "file_extension": ".py",
   "mimetype": "text/x-python",
   "name": "python",
   "nbconvert_exporter": "python",
   "pygments_lexer": "ipython2",
   "version": "2.7.6"
  }
 },
 "nbformat": 4,
 "nbformat_minor": 0
}
